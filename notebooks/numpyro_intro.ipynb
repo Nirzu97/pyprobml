{
  "nbformat": 4,
  "nbformat_minor": 0,
  "metadata": {
    "colab": {
      "name": "numpyro_intro.ipynb",
      "provenance": [],
      "include_colab_link": true
    },
    "kernelspec": {
      "name": "python3",
      "display_name": "Python 3"
    },
    "accelerator": "GPU"
  },
  "cells": [
    {
      "cell_type": "markdown",
      "metadata": {
        "id": "view-in-github",
        "colab_type": "text"
      },
      "source": [
        "<a href=\"https://colab.research.google.com/github/Nirzu97/pyprobml/blob/numpyro_intro/notebooks/numpyro_intro.ipynb\" target=\"_parent\"><img src=\"https://colab.research.google.com/assets/colab-badge.svg\" alt=\"Open In Colab\"/></a>"
      ]
    },
    {
      "cell_type": "markdown",
      "metadata": {
        "id": "11FOMaCs74vK"
      },
      "source": [
        "[NumPyro](https://github.com/pyro-ppl/numpyro) is probabilistic programming language built on top of JAX. It is very similar to [Pyro](https://pyro.ai/), which is built on top of PyTorch, but [tends to be faster](https://stackoverflow.com/questions/61846620/numpyro-vs-pyro-why-is-former-100x-faster-and-when-should-i-use-the-latter). (Both Pyro flavors are usually also [faster than PyMc3](https://www.kaggle.com/s903124/numpyro-speed-benchmark).)\n",
        "\n",
        "This colab gives a brief introduction (WIP)."
      ]
    },
    {
      "cell_type": "markdown",
      "metadata": {
        "id": "1FfhOPQUHEdS"
      },
      "source": [
        "# Installation"
      ]
    },
    {
      "cell_type": "code",
      "metadata": {
        "id": "Z5wEIBws1D6i"
      },
      "source": [
        "# Standard Python libraries\n",
        "from __future__ import absolute_import, division, print_function, unicode_literals\n",
        "\n",
        "import os\n",
        "import time\n",
        "#import numpy as np\n",
        "#np.set_printoptions(precision=3)\n",
        "import glob\n",
        "import matplotlib.pyplot as plt\n",
        "import PIL\n",
        "import imageio\n",
        "\n",
        "from IPython import display\n",
        "%matplotlib inline\n",
        "\n",
        "import sklearn\n",
        "\n",
        "import seaborn as sns;\n",
        "sns.set(style=\"ticks\", color_codes=True)\n",
        "\n",
        "import pandas as pd\n",
        "pd.set_option('precision', 2) # 2 decimal places\n",
        "pd.set_option('display.max_rows', 20)\n",
        "pd.set_option('display.max_columns', 30)\n",
        "pd.set_option('display.width', 100) # wide windows"
      ],
      "execution_count": 16,
      "outputs": []
    },
    {
      "cell_type": "code",
      "metadata": {
        "colab": {
          "base_uri": "https://localhost:8080/"
        },
        "id": "pYkJaAztt8mx",
        "outputId": "30c6b21e-277c-4adb-d0b8-126313eb7e96"
      },
      "source": [
        "import jax\n",
        "import jax.numpy as jnp\n",
        "import numpy as np # original numpy\n",
        "\n",
        "print(\"jax version {}\".format(jax.__version__))\n",
        "print(\"jax backend {}\".format(jax.lib.xla_bridge.get_backend().platform))"
      ],
      "execution_count": 17,
      "outputs": [
        {
          "output_type": "stream",
          "text": [
            "jax version 0.2.10\n",
            "jax backend cpu\n"
          ],
          "name": "stdout"
        }
      ]
    },
    {
      "cell_type": "code",
      "metadata": {
        "id": "aZhiXZN2uGhL",
        "colab": {
          "base_uri": "https://localhost:8080/"
        },
        "outputId": "6f51f961-4ffe-41a7-8a40-2ea9078db1a3"
      },
      "source": [
        "# https://github.com/pyro-ppl/numpyro\n",
        "!pip install numpyro\n",
        "\n",
        "# It seems that numpyro installs jaxlib for CPU\n",
        "#https://github.com/pyro-ppl/numpyro/issues/531"
      ],
      "execution_count": 18,
      "outputs": [
        {
          "output_type": "stream",
          "text": [
            "Requirement already satisfied: numpyro in /usr/local/lib/python3.7/dist-packages (0.6.0)\n",
            "Requirement already satisfied: jax==0.2.10 in /usr/local/lib/python3.7/dist-packages (from numpyro) (0.2.10)\n",
            "Requirement already satisfied: tqdm in /usr/local/lib/python3.7/dist-packages (from numpyro) (4.41.1)\n",
            "Requirement already satisfied: jaxlib==0.1.62 in /usr/local/lib/python3.7/dist-packages (from numpyro) (0.1.62)\n",
            "Requirement already satisfied: absl-py in /usr/local/lib/python3.7/dist-packages (from jax==0.2.10->numpyro) (0.12.0)\n",
            "Requirement already satisfied: numpy>=1.12 in /usr/local/lib/python3.7/dist-packages (from jax==0.2.10->numpyro) (1.19.5)\n",
            "Requirement already satisfied: opt-einsum in /usr/local/lib/python3.7/dist-packages (from jax==0.2.10->numpyro) (3.3.0)\n",
            "Requirement already satisfied: flatbuffers in /usr/local/lib/python3.7/dist-packages (from jaxlib==0.1.62->numpyro) (1.12)\n",
            "Requirement already satisfied: scipy in /usr/local/lib/python3.7/dist-packages (from jaxlib==0.1.62->numpyro) (1.4.1)\n",
            "Requirement already satisfied: six in /usr/local/lib/python3.7/dist-packages (from absl-py->jax==0.2.10->numpyro) (1.15.0)\n"
          ],
          "name": "stdout"
        }
      ]
    },
    {
      "cell_type": "markdown",
      "metadata": {
        "id": "V_j08oUgHMC8"
      },
      "source": [
        "# Distributions"
      ]
    },
    {
      "cell_type": "code",
      "metadata": {
        "id": "lfOH0V2Knz_p"
      },
      "source": [
        "import numpyro\n",
        "import numpyro.distributions as dist\n",
        "from numpyro.diagnostics import hpdi\n",
        "from numpyro.distributions.transforms import AffineTransform\n",
        "from numpyro.infer import MCMC, NUTS, Predictive\n",
        "\n",
        "rng_key = random.PRNGKey(0)\n",
        "rng_key, rng_key_ = random.split(rng_key)"
      ],
      "execution_count": 19,
      "outputs": []
    },
    {
      "cell_type": "markdown",
      "metadata": {
        "id": "2cu50EWRHmeL"
      },
      "source": [
        "## 1d Gaussian"
      ]
    },
    {
      "cell_type": "code",
      "metadata": {
        "id": "Wv6tBbo-BQBm",
        "colab": {
          "base_uri": "https://localhost:8080/"
        },
        "outputId": "bc794488-3a09-4d68-eeaa-b882a5c42c25"
      },
      "source": [
        "# 2 independent 1d gaussians (ie 1 diagonal Gaussian)\n",
        "mu = 1.5\n",
        "sigma = 2\n",
        "d = dist.Normal(mu, sigma)\n",
        "dir(d)"
      ],
      "execution_count": 20,
      "outputs": [
        {
          "output_type": "execute_result",
          "data": {
            "text/plain": [
              "['__call__',\n",
              " '__class__',\n",
              " '__delattr__',\n",
              " '__dict__',\n",
              " '__dir__',\n",
              " '__doc__',\n",
              " '__eq__',\n",
              " '__format__',\n",
              " '__ge__',\n",
              " '__getattribute__',\n",
              " '__gt__',\n",
              " '__hash__',\n",
              " '__init__',\n",
              " '__init_subclass__',\n",
              " '__le__',\n",
              " '__lt__',\n",
              " '__module__',\n",
              " '__ne__',\n",
              " '__new__',\n",
              " '__reduce__',\n",
              " '__reduce_ex__',\n",
              " '__repr__',\n",
              " '__setattr__',\n",
              " '__sizeof__',\n",
              " '__str__',\n",
              " '__subclasshook__',\n",
              " '__weakref__',\n",
              " '_batch_shape',\n",
              " '_event_shape',\n",
              " '_validate_args',\n",
              " '_validate_sample',\n",
              " 'arg_constraints',\n",
              " 'batch_shape',\n",
              " 'cdf',\n",
              " 'enumerate_support',\n",
              " 'event_dim',\n",
              " 'event_shape',\n",
              " 'expand',\n",
              " 'expand_by',\n",
              " 'has_enumerate_support',\n",
              " 'has_rsample',\n",
              " 'icdf',\n",
              " 'infer_shapes',\n",
              " 'is_discrete',\n",
              " 'loc',\n",
              " 'log_prob',\n",
              " 'mask',\n",
              " 'mean',\n",
              " 'reparametrized_params',\n",
              " 'rsample',\n",
              " 'sample',\n",
              " 'sample_with_intermediates',\n",
              " 'scale',\n",
              " 'set_default_validate_args',\n",
              " 'shape',\n",
              " 'support',\n",
              " 'to_event',\n",
              " 'tree_flatten',\n",
              " 'tree_unflatten',\n",
              " 'variance']"
            ]
          },
          "metadata": {
            "tags": []
          },
          "execution_count": 20
        }
      ]
    },
    {
      "cell_type": "code",
      "metadata": {
        "id": "viQgRPMWFH-7",
        "colab": {
          "base_uri": "https://localhost:8080/"
        },
        "outputId": "9746f40d-d47c-4aba-89c0-a83b87f1265e"
      },
      "source": [
        "rng_key, rng_key_ = random.split(rng_key)\n",
        "nsamples = 1000\n",
        "ys = d.sample(rng_key_, (nsamples,))\n",
        "print(ys.shape)\n",
        "mu_hat = jnp.mean(ys,0)\n",
        "print(mu_hat)\n",
        "sigma_hat = jnp.std(ys, 0)\n",
        "print(sigma_hat)"
      ],
      "execution_count": 21,
      "outputs": [
        {
          "output_type": "stream",
          "text": [
            "(1000,)\n",
            "1.5070927\n",
            "2.0493808\n"
          ],
          "name": "stdout"
        }
      ]
    },
    {
      "cell_type": "markdown",
      "metadata": {
        "id": "Iir5QxsEHvie"
      },
      "source": [
        "## Multivariate Gaussian\n",
        "\n"
      ]
    },
    {
      "cell_type": "code",
      "metadata": {
        "id": "h6MKLVypCGZY"
      },
      "source": [
        "mu = jnp.array([-1, 1])\n",
        "sigma = jnp.array([1, 2])\n",
        "Sigma = jnp.diag(sigma)\n",
        "d2 = dist.MultivariateNormal(mu, Sigma)"
      ],
      "execution_count": 22,
      "outputs": []
    },
    {
      "cell_type": "code",
      "metadata": {
        "id": "d7JQGBXi_7el",
        "colab": {
          "base_uri": "https://localhost:8080/"
        },
        "outputId": "0f95cd0f-05fe-48ed-ad97-250514f33d2c"
      },
      "source": [
        "#rng_key, rng_key_ = random.split(rng_key)\n",
        "nsamples = 1000\n",
        "ys = d2.sample(rng_key_, (nsamples,))\n",
        "print(ys.shape)\n",
        "mu_hat = jnp.mean(ys,0)\n",
        "print(mu_hat)\n",
        "Sigma_hat = jnp.cov(ys, rowvar=False) #jax.jnp.cov not implemented\n",
        "print(Sigma_hat)"
      ],
      "execution_count": 23,
      "outputs": [
        {
          "output_type": "stream",
          "text": [
            "(1000, 2)\n",
            "[-1.0127413  1.0091063]\n",
            "[[ 0.977003   -0.00533966]\n",
            " [-0.00533966  1.9718109 ]]\n"
          ],
          "name": "stdout"
        }
      ]
    },
    {
      "cell_type": "markdown",
      "metadata": {
        "id": "UPyDu5DgIT76"
      },
      "source": [
        "## Shape semantics\n",
        "\n",
        "Numpyro, [Pyro](https://pyro.ai/examples/tensor_shapes.html) and [TFP](https://www.tensorflow.org/probability/examples/Understanding_TensorFlow_Distributions_Shapes) all distinguish between 'event shape' and 'batch shape'.\n",
        "For a D-dimensional Gaussian, the event shape is (D,), and the batch shape\n",
        "will be (), meaning we have a single instance of this distribution.\n",
        "If the covariance is diagonal, we can view this as D independent\n",
        "1d Gaussians, stored along the batch dimension; this will have event shape () but batch shape (2,). \n",
        "\n",
        "When we sample from a distribution, we also specify the sample_shape.\n",
        "Suppose we draw N samples  from a single D-dim diagonal Gaussian,\n",
        "and N samples from D 1d Gaussians. These samples will have the same shape.\n",
        "However, the semantics of logprob differs.\n",
        "We illustrate this below.\n"
      ]
    },
    {
      "cell_type": "code",
      "metadata": {
        "id": "PUYN9T1GIbBb",
        "colab": {
          "base_uri": "https://localhost:8080/"
        },
        "outputId": "336c60ed-aeb9-4623-ac9f-1b5be3cef773"
      },
      "source": [
        "d2 = dist.MultivariateNormal(mu, Sigma)\n",
        "print(f'event shape {d2.event_shape}, batch shape {d2.batch_shape}') \n",
        "nsamples = 3\n",
        "ys2 = d2.sample(rng_key_, (nsamples,))\n",
        "print('samples, shape {}'.format(ys2.shape))\n",
        "print(ys2)\n",
        "\n",
        "# 2 independent 1d gaussians (same as one 2d diagonal Gaussian)\n",
        "d3 = dist.Normal(mu, jnp.diag(Sigma))\n",
        "print(f'event shape {d3.event_shape}, batch shape {d3.batch_shape}') \n",
        "ys3 = d3.sample(rng_key_, (nsamples,))\n",
        "print('samples, shape {}'.format(ys3.shape))\n",
        "print(ys3)\n",
        "\n",
        "print(jnp.allclose(ys2, ys3))"
      ],
      "execution_count": 24,
      "outputs": [
        {
          "output_type": "stream",
          "text": [
            "event shape (2,), batch shape ()\n",
            "samples, shape (3, 2)\n",
            "[[-0.06819373  0.9942934 ]\n",
            " [-1.740325   -1.0183868 ]\n",
            " [ 0.05969942  2.314332  ]]\n",
            "event shape (), batch shape (2,)\n",
            "samples, shape (3, 2)\n",
            "[[-0.06819373  0.99192965]\n",
            " [-1.740325   -1.85443   ]\n",
            " [ 0.05969942  2.8587465 ]]\n",
            "False\n"
          ],
          "name": "stdout"
        }
      ]
    },
    {
      "cell_type": "code",
      "metadata": {
        "id": "kABLe1ypJob8",
        "colab": {
          "base_uri": "https://localhost:8080/"
        },
        "outputId": "9e17ccfe-b142-4170-f0b5-fa7165bbb8a6"
      },
      "source": [
        "y = ys2[0,:] # 2 numbers\n",
        "print(d2.log_prob(y)) # log prob of a single 2d distribution on 2d input \n",
        "print(d3.log_prob(y)) # log prob of two 1d distributions on 2d input\n"
      ],
      "execution_count": 25,
      "outputs": [
        {
          "output_type": "stream",
          "text": [
            "-2.6185904\n",
            "[-1.35307   -1.6120898]\n"
          ],
          "name": "stdout"
        }
      ]
    },
    {
      "cell_type": "markdown",
      "metadata": {
        "id": "nsB0vIjYLa_6"
      },
      "source": [
        "We can turn a set of independent distributions into a single product\n",
        "distribution using the [Independent class](http://num.pyro.ai/en/stable/distributions.html#independent)\n"
      ]
    },
    {
      "cell_type": "code",
      "metadata": {
        "id": "MXsP_SonLOpl",
        "colab": {
          "base_uri": "https://localhost:8080/"
        },
        "outputId": "e4e9079b-4639-4422-efc0-7d86f4b7ee4b"
      },
      "source": [
        "d4 = dist.Independent(d3, 1) # treat the first batch dimension as an event dimensions\n",
        "print(d4.event_shape)\n",
        "print(d4.batch_shape)\n",
        "print(d4.log_prob(y))"
      ],
      "execution_count": 26,
      "outputs": [
        {
          "output_type": "stream",
          "text": [
            "(2,)\n",
            "()\n",
            "-2.96516\n"
          ],
          "name": "stdout"
        }
      ]
    },
    {
      "cell_type": "markdown",
      "metadata": {
        "id": "JVBjePpKIO0f"
      },
      "source": [
        "# Posterior inference with MCMC\n"
      ]
    },
    {
      "cell_type": "markdown",
      "metadata": {
        "id": "CSxk_HEeOOMn"
      },
      "source": [
        "## Example: 1d Gaussian with unknown mean.\n",
        "\n",
        "We use the simple example from the [Pyro intro](https://pyro.ai/examples/intro_part_ii.html#A-Simple-Example). The goal is to infer the weight $\\theta$ of an object, given noisy measurements $y$. We assume the following model:\n",
        "$$\n",
        "\\begin{align}\n",
        "\\theta &\\sim N(\\mu=8.5, \\tau^2=1.0)\\\\ \n",
        "y \\sim &N(\\theta, \\sigma^2=0.75^2)\n",
        "\\end{align}\n",
        "$$\n",
        "\n",
        "Where $\\mu=8.5$ is the initial guess. \n",
        "\n",
        "By Bayes rule for Gaussians, we know that the exact posterior,\n",
        "given a single observation $y=9.5$, is given by\n",
        "\n",
        "\n",
        "$$\n",
        "\\begin{align}\n",
        "\\theta|y &\\sim N(m, s^s) \\\\\n",
        "m &=\\frac{\\sigma^2 \\mu + \\tau^2 y}{\\sigma^2 + \\tau^2} \n",
        "  = \\frac{0.75^2 \\times 8.5 + 1 \\times 9.5}{0.75^2 + 1^2}\n",
        "  = 9.14 \\\\\n",
        "s^2 &= \\frac{\\sigma^2 \\tau^2}{\\sigma^2  + \\tau^2} \n",
        "= \\frac{0.75^2 \\times 1^2}{0.75^2 + 1^2}= 0.6^2\n",
        "\\end{align}\n",
        "$$"
      ]
    },
    {
      "cell_type": "code",
      "metadata": {
        "id": "HwHoLkHhaTTe",
        "colab": {
          "base_uri": "https://localhost:8080/"
        },
        "outputId": "296c87f4-3f38-469a-e282-9c28b956cd77"
      },
      "source": [
        "mu = 8.5; tau = 1.0; sigma = 0.75; y = 9.5\n",
        "m = (sigma**2 * mu + tau**2 * y)/(sigma**2 + tau**2)\n",
        "s2 = (sigma**2 * tau**2)/(sigma**2 + tau**2)\n",
        "s = jnp.sqrt(s2)\n",
        "print(m)\n",
        "print(s)"
      ],
      "execution_count": 27,
      "outputs": [
        {
          "output_type": "stream",
          "text": [
            "9.14\n",
            "0.6\n"
          ],
          "name": "stdout"
        }
      ]
    },
    {
      "cell_type": "code",
      "metadata": {
        "id": "pZasEbTfONnv"
      },
      "source": [
        "def model(prior_mean, prior_sd, obs_sd, measurement=None):\n",
        "    theta = numpyro.sample(\"theta\", dist.Normal(prior_mean, prior_sd))\n",
        "    return numpyro.sample(\"y\", dist.Normal(theta, obs_sd), obs=measurement)\n"
      ],
      "execution_count": 28,
      "outputs": []
    },
    {
      "cell_type": "code",
      "metadata": {
        "id": "Te6wYISV0uqZ",
        "colab": {
          "base_uri": "https://localhost:8080/"
        },
        "outputId": "c364d3e0-5917-40fd-a37d-106da9d82fcf"
      },
      "source": [
        "nuts_kernel = NUTS(model)\n",
        "mcmc = MCMC(nuts_kernel, num_warmup=100, num_samples=1000)\n",
        "mcmc.run(rng_key_, mu, tau, sigma, y)\n",
        "\n",
        "mcmc.print_summary()\n",
        "samples  = mcmc.get_samples()\n",
        " \n"
      ],
      "execution_count": 29,
      "outputs": [
        {
          "output_type": "stream",
          "text": [
            "sample: 100%|██████████| 1100/1100 [00:02<00:00, 376.48it/s, 3 steps of size 9.41e-01. acc. prob=0.91]"
          ],
          "name": "stderr"
        },
        {
          "output_type": "stream",
          "text": [
            "\n",
            "                mean       std    median      5.0%     95.0%     n_eff     r_hat\n",
            "     theta      9.17      0.60      9.13      8.27     10.15    365.16      1.00\n",
            "\n",
            "Number of divergences: 0\n"
          ],
          "name": "stdout"
        },
        {
          "output_type": "stream",
          "text": [
            "\n"
          ],
          "name": "stderr"
        }
      ]
    },
    {
      "cell_type": "code",
      "metadata": {
        "id": "yLIjAF887o_5"
      },
      "source": [
        ""
      ],
      "execution_count": 29,
      "outputs": []
    }
  ]
}